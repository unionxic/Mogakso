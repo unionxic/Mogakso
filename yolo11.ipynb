{
  "nbformat": 4,
  "nbformat_minor": 0,
  "metadata": {
    "colab": {
      "private_outputs": true,
      "provenance": [],
      "gpuType": "A100",
      "authorship_tag": "ABX9TyPtIfc3uFzto6CeSKyGODCR",
      "include_colab_link": true
    },
    "kernelspec": {
      "name": "python3",
      "display_name": "Python 3"
    },
    "language_info": {
      "name": "python"
    },
    "accelerator": "GPU"
  },
  "cells": [
    {
      "cell_type": "markdown",
      "metadata": {
        "id": "view-in-github",
        "colab_type": "text"
      },
      "source": [
        "<a href=\"https://colab.research.google.com/github/unionxic/Mogakso/blob/main/yolo11.ipynb\" target=\"_parent\"><img src=\"https://colab.research.google.com/assets/colab-badge.svg\" alt=\"Open In Colab\"/></a>"
      ]
    },
    {
      "cell_type": "code",
      "execution_count": null,
      "metadata": {
        "id": "w_MBFCVrhEYh"
      },
      "outputs": [],
      "source": [
        "# 구글 드라이브 마운트 (데이터 저장용)\n",
        "from google.colab import drive\n",
        "drive.mount('/content/drive')"
      ]
    },
    {
      "cell_type": "code",
      "source": [
        "!pip install ultralytics kaggle"
      ],
      "metadata": {
        "id": "ERo5BvfFhbO0"
      },
      "execution_count": null,
      "outputs": []
    },
    {
      "cell_type": "code",
      "source": [
        "import torch\n",
        "print(\"GPU 사용 가능 여부:\", torch.cuda.is_available())\n"
      ],
      "metadata": {
        "id": "p1jAqshTh-3n"
      },
      "execution_count": null,
      "outputs": []
    },
    {
      "cell_type": "code",
      "source": [
        "from ultralytics import YOLO\n",
        "\n",
        "# YOLO 분류 모델 로드 (가정: \"yolo11-cls.pt\" 파일이 존재해야 함)\n",
        "model = YOLO(\"yolo11n-cls.pt\")\n",
        "\n",
        "# 모델 학습\n",
        "results = model.train(\n",
        "    data=\"/content/drive/MyDrive/data-v1/\",  # 올바른 절대 경로 사용\n",
        "    epochs=30,                 # 원하는 에포크 수 조정\n",
        "    imgsz=224,                 # 분류 모델에 적합한 이미지 크기 (예: 224, 256)\n",
        "    project=\"/content/runs\",    # 결과 저장 폴더\n",
        "    name=\"yolo11_cls_experiment\"\n",
        ")\n"
      ],
      "metadata": {
        "id": "OuSoWZLjiAtp"
      },
      "execution_count": null,
      "outputs": []
    },
    {
      "cell_type": "code",
      "source": [
        "from ultralytics import YOLO\n",
        "\n",
        "# 모델 로드\n",
        "model = YOLO(\"/content/runs/yolo11_cls_experiment4/weights/best.pt\")\n",
        "\n",
        "# 개별 하위 폴더별로 예측 실행\n",
        "folders = [\n",
        "    \"/content/drive/MyDrive/data-v1/test/moderate-accident\",\n",
        "    \"/content/drive/MyDrive/data-v1/test/no-accident\",\n",
        "    \"/content/drive/MyDrive/data-v1/test/severe-accident\"\n",
        "]\n",
        "\n",
        "for folder in folders:\n",
        "    results = model.predict(source=folder, save=True)\n",
        "    print(f\"Predictions for {folder}:\")\n",
        "    print(results)\n"
      ],
      "metadata": {
        "id": "fxp2m4zOlx9M"
      },
      "execution_count": null,
      "outputs": []
    },
    {
      "cell_type": "code",
      "source": [
        "import matplotlib.pyplot as plt\n",
        "import cv2\n",
        "import os\n",
        "\n",
        "# 예측된 결과를 시각화하는 함수\n",
        "def visualize_predictions(results):\n",
        "    for result in results[:5]:  # 처음 5개만 예제 출력\n",
        "        predicted_class = result.names[result.probs.top1]  # 예측된 클래스\n",
        "        confidence = result.probs.data[result.probs.top1].item()  # 확률\n",
        "\n",
        "        # 원본 이미지 불러오기\n",
        "        image = cv2.imread(result.path)\n",
        "        image = cv2.cvtColor(image, cv2.COLOR_BGR2RGB)\n",
        "\n",
        "        # 이미지 표시\n",
        "        plt.figure(figsize=(6,6))\n",
        "        plt.imshow(image)\n",
        "        plt.axis(\"off\")\n",
        "        plt.title(f\"Predicted: {predicted_class} ({confidence:.2%})\", fontsize=14)\n",
        "        plt.show()\n",
        "\n",
        "# 모든 폴더에 대해 결과 시각화\n",
        "for folder in folders:\n",
        "    print(f\"\\n📌 예측된 결과 - {folder}\")\n",
        "    visualize_predictions(model.predict(source=folder))\n"
      ],
      "metadata": {
        "id": "Lp1tHZfIj8Mj"
      },
      "execution_count": null,
      "outputs": []
    },
    {
      "cell_type": "code",
      "source": [],
      "metadata": {
        "id": "uAO14ykcnjUU"
      },
      "execution_count": null,
      "outputs": []
    }
  ]
}